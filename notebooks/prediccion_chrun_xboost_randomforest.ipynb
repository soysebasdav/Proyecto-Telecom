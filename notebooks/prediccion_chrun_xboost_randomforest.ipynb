{
 "cells": [
  {
   "cell_type": "code",
   "execution_count": null,
   "metadata": {},
   "outputs": [
    {
     "name": "stdout",
     "output_type": "stream",
     "text": [
      "Valores nulos restantes:\n",
      "SeniorCitizen                            0\n",
      "tenure                                   0\n",
      "MonthlyCharges                           0\n",
      "TotalCharges                             0\n",
      "customerID_0003-MKNFE                    0\n",
      "                                        ..\n",
      "Contract_Two year                        0\n",
      "PaperlessBilling_Yes                     0\n",
      "PaymentMethod_Credit card (automatic)    0\n",
      "PaymentMethod_Electronic check           0\n",
      "PaymentMethod_Mailed check               0\n",
      "Length: 7072, dtype: int64\n"
     ]
    },
    {
     "name": "stderr",
     "output_type": "stream",
     "text": [
      "C:\\Users\\braco\\AppData\\Local\\Temp\\ipykernel_22380\\1787076230.py:8: FutureWarning: A value is trying to be set on a copy of a DataFrame or Series through chained assignment using an inplace method.\n",
      "The behavior will change in pandas 3.0. This inplace method will never work because the intermediate object on which we are setting values always behaves as a copy.\n",
      "\n",
      "For example, when doing 'df[col].method(value, inplace=True)', try using 'df.method({col: value}, inplace=True)' or df[col] = df[col].method(value) instead, to perform the operation inplace on the original object.\n",
      "\n",
      "\n",
      "  df_without_churn['TotalCharges'].fillna(df_without_churn['TotalCharges'].mean(), inplace=True)\n"
     ]
    }
   ],
   "source": [
    "# ==========================================\n",
    "# Paso 4: Limpieza de los datos\n",
    "# ==========================================\n",
    "# Convertir 'TotalCharges' a tipo float (algunos valores podrían ser strings, como ' ' en lugar de números)\n",
    "df_without_churn['TotalCharges'] = pd.to_numeric(df_without_churn['TotalCharges'], errors='coerce')\n",
    "\n",
    "# Rellenar valores nulos en 'TotalCharges' con la media\n",
    "df_without_churn['TotalCharges'] = df_without_churn['TotalCharges'].fillna(df_without_churn['TotalCharges'].mean())\n",
    "\n",
    "# Comprobamos si hay valores nulos restantes\n",
    "print(f\"Valores nulos restantes:\\n{df_without_churn.isnull().sum()}\")\n",
    "\n",
    "\n",
    "# Convertir variables categóricas en numéricas (usamos OneHotEncoding para variables con más de dos valores)\n",
    "df_without_churn = pd.get_dummies(df_without_churn, drop_first=True)\n",
    "\n",
    "# Comprobamos las primeras filas del dataframe después de la limpieza\n",
    "df_without_churn.head()\n",
    "\n",
    "# ==========================================\n",
    "# Paso 5: Escalar las variables numéricas\n",
    "# ==========================================\n",
    "# Seleccionamos las columnas numéricas\n",
    "numeric_cols = ['tenure', 'MonthlyCharges', 'TotalCharges']\n",
    "\n",
    "# Normalizamos las variables numéricas\n",
    "scaler = StandardScaler()\n",
    "df_without_churn[numeric_cols] = scaler.fit_transform(df_without_churn[numeric_cols])\n",
    "\n",
    "# ==========================================\n",
    "# Paso 6: Codificación de la variable objetivo 'Churn'\n",
    "# ==========================================\n",
    "# Convertir la variable 'Churn' de 'Yes'/'No' a 1/0\n",
    "y = df['Churn'].map({'Yes': 1, 'No': 0})  # Aquí realizamos la conversión a 1 y 0\n",
    "X = df_without_churn  # Usamos las características del dataframe limpio\n",
    "\n",
    "# ==========================================\n",
    "# Paso 7: Dividir los datos en entrenamiento y prueba\n",
    "# ==========================================\n",
    "# Dividir los datos en conjunto de entrenamiento (70%) y prueba (30%)\n",
    "X_train, X_test, y_train, y_test = train_test_split(X, y, test_size=0.30, random_state=42, stratify=y)\n"
   ]
  },
  {
   "cell_type": "code",
   "execution_count": null,
   "metadata": {},
   "outputs": [],
   "source": []
  }
 ],
 "metadata": {
  "kernelspec": {
   "display_name": "venv",
   "language": "python",
   "name": "python3"
  },
  "language_info": {
   "codemirror_mode": {
    "name": "ipython",
    "version": 3
   },
   "file_extension": ".py",
   "mimetype": "text/x-python",
   "name": "python",
   "nbconvert_exporter": "python",
   "pygments_lexer": "ipython3",
   "version": "3.13.2"
  }
 },
 "nbformat": 4,
 "nbformat_minor": 2
}
